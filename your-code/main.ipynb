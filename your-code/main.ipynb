{
 "cells": [
  {
   "cell_type": "markdown",
   "metadata": {},
   "source": [
    "# Confidence Intervals"
   ]
  },
  {
   "cell_type": "code",
   "execution_count": 1,
   "metadata": {},
   "outputs": [],
   "source": [
    "# Libraries\n",
    "from scipy import stats\n",
    "import numpy as np\n",
    "import numpy as np\n",
    "import math\n",
    "import pandas as pd\n",
    "import matplotlib.pyplot as plt\n",
    "from scipy.stats import uniform\n",
    "from scipy.stats import norm\n",
    "from scipy.stats import expon\n",
    "from scipy.stats import bernoulli\n",
    "from scipy.stats import binom\n",
    "from scipy.stats import geom\n",
    "from scipy.stats import poisson\n",
    "from scipy.stats import skew\n",
    "import scipy.stats\n",
    "from prettytable import PrettyTable"
   ]
  },
  {
   "cell_type": "markdown",
   "metadata": {},
   "source": [
    "## Challenge 1\n",
    "We want to estimate the average size of the men of a country with a confidence level of 80%. Assuming that the standard deviation of the sizes in the population is 4, get the confidence interval with a sample of men selected randomly, whose heights are:\n",
    "\n",
    "````\n",
    "heights = [167, 167, 168, 168, 168, 169, 171, 172, 173, 175, 175, 175, 177, 182, 195]\n",
    "````\n",
    "\n",
    "**Hint**: function `stats.norm.interval` from `scipy` can help you get through this exercise. "
   ]
  },
  {
   "cell_type": "code",
   "execution_count": 2,
   "metadata": {},
   "outputs": [],
   "source": [
    "heights = [167, 167, 168, 168, 168, 169, 171, 172, 173, 175, 175, 175, 177, 182, 195]"
   ]
  },
  {
   "cell_type": "code",
   "execution_count": 3,
   "metadata": {},
   "outputs": [],
   "source": [
    "# your code here\n",
    "std = 4\n",
    "mean_size = np.mean(heights)\n",
    "std_size = np.std(heights)\n",
    "#print(mean_size)\n",
    "#print(std_size)"
   ]
  },
  {
   "cell_type": "code",
   "execution_count": 4,
   "metadata": {},
   "outputs": [
    {
     "name": "stdout",
     "output_type": "stream",
     "text": [
      "(172.14308590115726, 174.79024743217607)\n"
     ]
    },
    {
     "data": {
      "text/plain": [
       "\"\\nTo have the std of the sample we have to use the population std, and apply the formula.\\nWe use the population std because it is the 'real' std, the most accurate. The same would be applied if we had the mean of the\\npopulation (not very sure of this statement).\\nWe always apply this formula everytime we work with samples (loc is the mean, and scale is the std)\\n\""
      ]
     },
     "execution_count": 4,
     "metadata": {},
     "output_type": "execute_result"
    }
   ],
   "source": [
    "import math\n",
    "print(stats.norm.interval(0.8, loc = mean_size, scale = std/(math.sqrt(len(heights)))))\n",
    "#print(stats.norm.interval(0.8, loc = mean_size, scale = std)) dúvida Pedro: this should be what we use because we should use the 'real' std.\n",
    "'''\n",
    "To have the std of the sample we have to use the population std, and apply the formula.\n",
    "We use the population std because it is the 'real' std, the most accurate. The same would be applied if we had the mean of the\n",
    "population (not very sure of this statement).\n",
    "We always apply this formula everytime we work with samples (loc is the mean, and scale is the std)\n",
    "'''"
   ]
  },
  {
   "cell_type": "code",
   "execution_count": 5,
   "metadata": {},
   "outputs": [
    {
     "data": {
      "text/plain": [
       "'#How to do a t-test:\\n\\nalpha = 0.8\\nfrom scipy.stats import t\\ndeg_freedom = len(heights) - 1\\n \\n#formula for t-test:\\nt_dist_heights = t(deg_freedom, mean_size, std_size)\\n\\nplt.plot(heights, t_dist_heights.pdf(heights))\\n\\ninterval_t_distrib = t_dist_heights.interval(alpha)\\ninterval_t_distrib'"
      ]
     },
     "execution_count": 5,
     "metadata": {},
     "output_type": "execute_result"
    }
   ],
   "source": [
    "'''#How to do a t-test:\n",
    "\n",
    "alpha = 0.8\n",
    "from scipy.stats import t\n",
    "deg_freedom = len(heights) - 1\n",
    " \n",
    "#formula for t-test:\n",
    "t_dist_heights = t(deg_freedom, mean_size, std_size)\n",
    "\n",
    "plt.plot(heights, t_dist_heights.pdf(heights))\n",
    "\n",
    "interval_t_distrib = t_dist_heights.interval(alpha)\n",
    "interval_t_distrib'''"
   ]
  },
  {
   "cell_type": "markdown",
   "metadata": {},
   "source": [
    "## Challenge 2 \n",
    "In a sample of 105 shops selected randomly from an area, we note that 27 of them have had losses in this month. Get an interval for the proportion of businesses in the area with losses to a confidence level of 80% and a confidence level of 90%.\n",
    "\n",
    "**Hint**: function `stats.norm.interval` from `scipy` can help you get through this exercise. "
   ]
  },
  {
   "cell_type": "code",
   "execution_count": 6,
   "metadata": {
    "scrolled": true
   },
   "outputs": [
    {
     "name": "stdout",
     "output_type": "stream",
     "text": [
      "(0.20248138545542083, 0.3118043288302934)\n",
      "(0.1869856177645281, 0.3273000965211861)\n"
     ]
    },
    {
     "data": {
      "text/plain": [
       "\"\\nThe proportion of businesses in the area with losses is between 0.202 and 5.997 for a confidence level of 80%.\\nFor a confidence level of 90%, it's between 0.187 and 0.327.\\n\""
      ]
     },
     "execution_count": 6,
     "metadata": {},
     "output_type": "execute_result"
    }
   ],
   "source": [
    "# your code here\n",
    "import math\n",
    "n = 105\n",
    "alpha = 0.8\n",
    "mean_losses = 27/105 #mean bernoulli\n",
    "#print(mean_losses)\n",
    "'''\n",
    "How to think: the loc for a bernoulli or binomial dist. is the probability of what we want to study.\n",
    "'''\n",
    "sample = [1]*27 + [0]*(105-27)\n",
    "sample = np.array(sample)\n",
    "\n",
    "#calculating the mean and std of the sample:\n",
    "all_losses = sample\n",
    "mean_losses = np.mean(all_losses)\n",
    "std_losses = math.sqrt((mean_losses)*(1 - mean_losses)/105) #p*(1-p) -> will be the prob. of not happening what we want, and will be used as the std.\n",
    "\n",
    "print(stats.norm.interval(0.8, loc = mean_losses, scale = std_losses))\n",
    "print(stats.norm.interval(0.9, loc = mean_losses, scale = std_losses))\n",
    "'''\n",
    "The proportion of businesses in the area with losses is between 0.202 and 5.997 for a confidence level of 80%.\n",
    "For a confidence level of 90%, it's between 0.187 and 0.327.\n",
    "'''"
   ]
  },
  {
   "cell_type": "markdown",
   "metadata": {},
   "source": [
    "## Bonus Challenge\n",
    "The error level or sampling error for the first challenge is given by the following expression:\n",
    "$$Error = z_{\\frac{\\alpha}{2}}\\frac{\\sigma}{\\sqrt n}$$\n",
    "Where z represents the value for N(0,1)\n",
    "\n",
    "\n",
    "Suppose that with the previous data of challenge 1, and with a confidence level of\n",
    "99% (that is, almost certainly) we want to estimate the average population size, so that the error level committed is not greater than half a centimeter.\n",
    "\n",
    "#### 1.- Determine what size the selected sample of men should be."
   ]
  },
  {
   "cell_type": "code",
   "execution_count": 7,
   "metadata": {},
   "outputs": [],
   "source": [
    "# your code here"
   ]
  },
  {
   "cell_type": "markdown",
   "metadata": {},
   "source": [
    "#### 2.- For the second challenge, we have the following error:\n",
    "$$ Error = z_{\\frac{\\alpha}{2}}\\sqrt{\\frac{p\\times q}{n}} $$\n",
    "#### Determine the sample size required to not exceed an error of 1% with a confidence of 80%."
   ]
  },
  {
   "cell_type": "code",
   "execution_count": 8,
   "metadata": {},
   "outputs": [],
   "source": [
    "# your code here"
   ]
  },
  {
   "cell_type": "markdown",
   "metadata": {},
   "source": [
    "## Bonus Challenge\n",
    "\n",
    "Let's consider the following problem:\n",
    "\n",
    "Build a confidence interval of 94% for the real difference between the durations of two brands of spotlights, if a sample of 40 spotlights taken randomly from the first mark gave an average duration of 418 hours, and a sample of 50 bulbs of another brand gave a duration average of 402 hours. The standard deviations of the two\n",
    "populations are 26 hours and 22 hours, respectively.\n",
    "\n",
    "Sometimes, we will be interested in the difference of two different groups of random variables. We can also build a confidence interval for that! We have some different cases regarding the variance but for this specific case (the variance are different and known), we have that:\n",
    "\n",
    "$$\\overline{X} - \\overline{Y}  \\sim N(\\mu_{X} - \\mu_{Y} , \\sqrt{\\frac{\\sigma_{X}^2}{n_X}+\\frac{\\sigma_{Y}^2}{n_Y}})$$\n",
    "\n",
    "Solve the problem with this information."
   ]
  },
  {
   "cell_type": "code",
   "execution_count": 9,
   "metadata": {},
   "outputs": [],
   "source": [
    "# your code here"
   ]
  }
 ],
 "metadata": {
  "kernelspec": {
   "display_name": "Python 3",
   "language": "python",
   "name": "python3"
  },
  "language_info": {
   "codemirror_mode": {
    "name": "ipython",
    "version": 3
   },
   "file_extension": ".py",
   "mimetype": "text/x-python",
   "name": "python",
   "nbconvert_exporter": "python",
   "pygments_lexer": "ipython3",
   "version": "3.7.6"
  }
 },
 "nbformat": 4,
 "nbformat_minor": 2
}
